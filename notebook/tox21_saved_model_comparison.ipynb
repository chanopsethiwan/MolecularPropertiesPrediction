{
 "cells": [
  {
   "cell_type": "code",
   "execution_count": 12,
   "id": "c1a54229",
   "metadata": {},
   "outputs": [],
   "source": [
    "import pandas as pd"
   ]
  },
  {
   "cell_type": "code",
   "execution_count": 13,
   "id": "7b40193d",
   "metadata": {},
   "outputs": [],
   "source": [
    "# Load the dataset\n",
    "\n",
    "# Step 1: Load all three tuning CSVs\n",
    "df_rf_xgb = pd.read_csv(\"tox21_model_tuning_results.csv\")                # Random Forest & XGBoost\n",
    "df_lr = pd.read_csv(\"logistic_regression_tuning_results.csv\")           # Logistic Regression\n",
    "df_svm = pd.read_csv(\"svm_tuning_results.csv\")    "
   ]
  },
  {
   "cell_type": "code",
   "execution_count": 14,
   "id": "bda7238e",
   "metadata": {},
   "outputs": [],
   "source": [
    "# Step 2: Standardize ROC-AUC column name across all\n",
    "\n",
    "df_rf_xgb_clean = df_rf_xgb[['Target', 'Model', 'ROC_AUC']]\n",
    "\n",
    "df_lr_clean = df_lr[['Target', 'Model', 'Best ROC-AUC']].rename(\n",
    "    columns={'Best ROC-AUC': 'ROC_AUC'}\n",
    ")\n",
    "\n",
    "df_svm_clean = df_svm[['Target', 'Model', 'Best ROC-AUC']].rename(\n",
    "    columns={'Best ROC-AUC': 'ROC_AUC'}\n",
    ")"
   ]
  },
  {
   "cell_type": "code",
   "execution_count": 15,
   "id": "78458ed8",
   "metadata": {},
   "outputs": [],
   "source": [
    "# Step 3: Combine all into a single DataFrame\n",
    "combined_auc_df = pd.concat([df_rf_xgb_clean, df_lr_clean, df_svm_clean], ignore_index=True)"
   ]
  },
  {
   "cell_type": "code",
   "execution_count": 16,
   "id": "6e3d2861",
   "metadata": {},
   "outputs": [],
   "source": [
    "# Round for readability\n",
    "combined_auc_df['ROC_AUC'] = combined_auc_df['ROC_AUC'].round(4)\n",
    "\n",
    "# Step 4: Save the combined DataFrame to a CSV file\n",
    "combined_auc_df.to_csv(\"combined_model_roc_auc_scores.csv\", index=False)"
   ]
  },
  {
   "cell_type": "code",
   "execution_count": 17,
   "id": "82376ca9",
   "metadata": {},
   "outputs": [
    {
     "name": "stdout",
     "output_type": "stream",
     "text": [
      "      Target          Model  ROC_AUC\n",
      "0      NR-AR  Random Forest   0.8038\n",
      "1      NR-AR        XGBoost   0.8044\n",
      "2  NR-AR-LBD  Random Forest   0.8655\n",
      "3  NR-AR-LBD        XGBoost   0.8558\n",
      "4     NR-AhR  Random Forest   0.8964\n"
     ]
    }
   ],
   "source": [
    "# Preview or analyze\n",
    "print(combined_auc_df.head())"
   ]
  },
  {
   "cell_type": "code",
   "execution_count": 18,
   "id": "49e9c080",
   "metadata": {},
   "outputs": [
    {
     "name": "stdout",
     "output_type": "stream",
     "text": [
      "Target               NR-AR  NR-AR-LBD  NR-AhR  NR-Aromatase   NR-ER  \\\n",
      "Model                                                                 \n",
      "LogisticRegression  0.7972     0.8517  0.8803        0.8199  0.7186   \n",
      "Random Forest       0.8038     0.8655  0.8964        0.8171  0.7229   \n",
      "SVM                 0.8023     0.8743  0.8922        0.8246  0.7220   \n",
      "XGBoost             0.8044     0.8558  0.8905        0.8069  0.7172   \n",
      "\n",
      "Target              NR-ER-LBD  NR-PPAR-gamma  SR-ARE  SR-ATAD5  SR-HSE  \\\n",
      "Model                                                                    \n",
      "LogisticRegression     0.7914         0.7759  0.7653    0.8214  0.7451   \n",
      "Random Forest          0.8144         0.8267  0.8092    0.8395  0.7774   \n",
      "SVM                    0.8049         0.8265  0.8105    0.8399  0.7754   \n",
      "XGBoost                0.7914         0.7860  0.7802    0.8199  0.7552   \n",
      "\n",
      "Target              SR-MMP  SR-p53  \n",
      "Model                               \n",
      "LogisticRegression  0.8639  0.8090  \n",
      "Random Forest       0.8806  0.8379  \n",
      "SVM                 0.8852  0.8461  \n",
      "XGBoost             0.8730  0.8166  \n"
     ]
    }
   ],
   "source": [
    "# Pivot test\n",
    "\n",
    "# Pivot: models as rows, targets as columns, values = ROC_AUC\n",
    "pivot_df = combined_auc_df.pivot_table(\n",
    "    index=\"Model\", \n",
    "    columns=\"Target\", \n",
    "    values=\"ROC_AUC\"\n",
    ").round(4)\n",
    "\n",
    "# Optional: Replace NaN with placeholder (if some models are missing for a target)\n",
    "pivot_df.fillna(\"–\", inplace=True)\n",
    "\n",
    "# Display\n",
    "print(pivot_df)"
   ]
  },
  {
   "cell_type": "code",
   "execution_count": 19,
   "id": "f1bc563f",
   "metadata": {},
   "outputs": [],
   "source": [
    "pivot_df.to_csv(\"pivoted_model_roc_auc_matrix.csv\")"
   ]
  },
  {
   "cell_type": "code",
   "execution_count": null,
   "id": "0739e544",
   "metadata": {},
   "outputs": [],
   "source": []
  }
 ],
 "metadata": {
  "kernelspec": {
   "display_name": "Python (tox21-env)",
   "language": "python",
   "name": "tox21-env"
  },
  "language_info": {
   "codemirror_mode": {
    "name": "ipython",
    "version": 3
   },
   "file_extension": ".py",
   "mimetype": "text/x-python",
   "name": "python",
   "nbconvert_exporter": "python",
   "pygments_lexer": "ipython3",
   "version": "3.8.17"
  }
 },
 "nbformat": 4,
 "nbformat_minor": 5
}
