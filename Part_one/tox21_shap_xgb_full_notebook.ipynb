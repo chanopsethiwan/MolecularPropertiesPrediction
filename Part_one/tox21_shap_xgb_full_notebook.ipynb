{
 "cells": [
  {
   "cell_type": "markdown",
   "id": "0c6c3e9b",
   "metadata": {},
   "source": [
    "# 🔍 SHAP Interpretation for Tox21 - XGBoost\n",
    "\n",
    "This notebook trains an XGBoost model for each Tox21 target using ECFP4 fingerprints, performs a train/test split, saves the model, and generates SHAP summary plots for interpretation.\n",
    "\n",
    "Make sure:\n",
    "- Your Tox21 data is in `data/tox21.csv`\n",
    "- Your ECFP4 features are stored in the variable `X`"
   ]
  },
  {
   "cell_type": "code",
   "execution_count": 1,
   "id": "8cf9f881",
   "metadata": {},
   "outputs": [
    {
     "name": "stderr",
     "output_type": "stream",
     "text": [
      "IProgress not found. Please update jupyter and ipywidgets. See https://ipywidgets.readthedocs.io/en/stable/user_install.html\n"
     ]
    }
   ],
   "source": [
    "import shap\n",
    "import joblib\n",
    "import numpy as np\n",
    "import pandas as pd\n",
    "import matplotlib.pyplot as plt\n",
    "import os\n",
    "from sklearn.model_selection import train_test_split\n",
    "from xgboost import XGBClassifier\n",
    "\n",
    "# Create necessary directories\n",
    "os.makedirs(\"final_models\", exist_ok=True)\n",
    "os.makedirs(\"shap_summaries\", exist_ok=True)\n",
    "os.makedirs(\"shap_summaries/xgb\", exist_ok=True)\n",
    "\n",
    "# Load dataset\n",
    "df = pd.read_csv(\"data/tox21.csv\")\n",
    "\n",
    "# ECFP4 matrix must be precomputed and stored in variable X"
   ]
  },
  {
   "cell_type": "code",
   "execution_count": 2,
   "id": "9679bf42",
   "metadata": {},
   "outputs": [
    {
     "name": "stderr",
     "output_type": "stream",
     "text": [
      "[00:56:11] WARNING: not removing hydrogen atom without neighbors\n"
     ]
    }
   ],
   "source": [
    "from rdkit import Chem\n",
    "from rdkit.Chem.rdFingerprintGenerator import GetMorganGenerator\n",
    "import numpy as np\n",
    "\n",
    "# Generate ECFP4 fingerprints (radius=2, 1024 bits)\n",
    "morgan_gen = GetMorganGenerator(radius=2, fpSize=1024)\n",
    "\n",
    "def smiles_to_ecfp(smiles):\n",
    "    mol = Chem.MolFromSmiles(smiles)\n",
    "    if mol is None:\n",
    "        return np.zeros((morgan_gen.GetNumBits(),))\n",
    "    return np.array(morgan_gen.GetFingerprint(mol))\n",
    "\n",
    "# Apply to all rows\n",
    "X = np.array([smiles_to_ecfp(s) for s in df['smiles']])\n"
   ]
  },
  {
   "cell_type": "code",
   "execution_count": 3,
   "id": "c3850938",
   "metadata": {},
   "outputs": [],
   "source": [
    "targets = [\n",
    "    'NR-AR', 'NR-AR-LBD', 'NR-AhR', 'NR-Aromatase', 'NR-ER',\n",
    "    'NR-ER-LBD', 'NR-PPAR-gamma', 'SR-ARE', 'SR-ATAD5',\n",
    "    'SR-HSE', 'SR-MMP', 'SR-p53'\n",
    "]"
   ]
  },
  {
   "cell_type": "code",
   "execution_count": 4,
   "id": "ffe7ee97",
   "metadata": {},
   "outputs": [
    {
     "name": "stdout",
     "output_type": "stream",
     "text": [
      "🚀 Processing NR-AR (XGBoost)\n"
     ]
    },
    {
     "name": "stderr",
     "output_type": "stream",
     "text": [
      "[00:59:43] WARNING: /Users/runner/work/xgboost/xgboost/src/learner.cc:740: \n",
      "Parameters: { \"use_label_encoder\" } are not used.\n",
      "\n"
     ]
    },
    {
     "name": "stdout",
     "output_type": "stream",
     "text": [
      "✅ Saved model and SHAP plot for NR-AR\n",
      "🚀 Processing NR-AR-LBD (XGBoost)\n"
     ]
    },
    {
     "name": "stderr",
     "output_type": "stream",
     "text": [
      "[00:59:44] WARNING: /Users/runner/work/xgboost/xgboost/src/learner.cc:740: \n",
      "Parameters: { \"use_label_encoder\" } are not used.\n",
      "\n"
     ]
    },
    {
     "name": "stdout",
     "output_type": "stream",
     "text": [
      "✅ Saved model and SHAP plot for NR-AR-LBD\n",
      "🚀 Processing NR-AhR (XGBoost)\n"
     ]
    },
    {
     "name": "stderr",
     "output_type": "stream",
     "text": [
      "[00:59:45] WARNING: /Users/runner/work/xgboost/xgboost/src/learner.cc:740: \n",
      "Parameters: { \"use_label_encoder\" } are not used.\n",
      "\n"
     ]
    },
    {
     "name": "stdout",
     "output_type": "stream",
     "text": [
      "✅ Saved model and SHAP plot for NR-AhR\n",
      "🚀 Processing NR-Aromatase (XGBoost)\n"
     ]
    },
    {
     "name": "stderr",
     "output_type": "stream",
     "text": [
      "[00:59:46] WARNING: /Users/runner/work/xgboost/xgboost/src/learner.cc:740: \n",
      "Parameters: { \"use_label_encoder\" } are not used.\n",
      "\n"
     ]
    },
    {
     "name": "stdout",
     "output_type": "stream",
     "text": [
      "✅ Saved model and SHAP plot for NR-Aromatase\n",
      "🚀 Processing NR-ER (XGBoost)\n"
     ]
    },
    {
     "name": "stderr",
     "output_type": "stream",
     "text": [
      "[00:59:46] WARNING: /Users/runner/work/xgboost/xgboost/src/learner.cc:740: \n",
      "Parameters: { \"use_label_encoder\" } are not used.\n",
      "\n"
     ]
    },
    {
     "name": "stdout",
     "output_type": "stream",
     "text": [
      "✅ Saved model and SHAP plot for NR-ER\n",
      "🚀 Processing NR-ER-LBD (XGBoost)\n"
     ]
    },
    {
     "name": "stderr",
     "output_type": "stream",
     "text": [
      "[00:59:47] WARNING: /Users/runner/work/xgboost/xgboost/src/learner.cc:740: \n",
      "Parameters: { \"use_label_encoder\" } are not used.\n",
      "\n"
     ]
    },
    {
     "name": "stdout",
     "output_type": "stream",
     "text": [
      "✅ Saved model and SHAP plot for NR-ER-LBD\n",
      "🚀 Processing NR-PPAR-gamma (XGBoost)\n"
     ]
    },
    {
     "name": "stderr",
     "output_type": "stream",
     "text": [
      "[00:59:48] WARNING: /Users/runner/work/xgboost/xgboost/src/learner.cc:740: \n",
      "Parameters: { \"use_label_encoder\" } are not used.\n",
      "\n"
     ]
    },
    {
     "name": "stdout",
     "output_type": "stream",
     "text": [
      "✅ Saved model and SHAP plot for NR-PPAR-gamma\n",
      "🚀 Processing SR-ARE (XGBoost)\n"
     ]
    },
    {
     "name": "stderr",
     "output_type": "stream",
     "text": [
      "[00:59:49] WARNING: /Users/runner/work/xgboost/xgboost/src/learner.cc:740: \n",
      "Parameters: { \"use_label_encoder\" } are not used.\n",
      "\n"
     ]
    },
    {
     "name": "stdout",
     "output_type": "stream",
     "text": [
      "✅ Saved model and SHAP plot for SR-ARE\n",
      "🚀 Processing SR-ATAD5 (XGBoost)\n"
     ]
    },
    {
     "name": "stderr",
     "output_type": "stream",
     "text": [
      "[00:59:49] WARNING: /Users/runner/work/xgboost/xgboost/src/learner.cc:740: \n",
      "Parameters: { \"use_label_encoder\" } are not used.\n",
      "\n"
     ]
    },
    {
     "name": "stdout",
     "output_type": "stream",
     "text": [
      "✅ Saved model and SHAP plot for SR-ATAD5\n",
      "🚀 Processing SR-HSE (XGBoost)\n"
     ]
    },
    {
     "name": "stderr",
     "output_type": "stream",
     "text": [
      "[00:59:50] WARNING: /Users/runner/work/xgboost/xgboost/src/learner.cc:740: \n",
      "Parameters: { \"use_label_encoder\" } are not used.\n",
      "\n"
     ]
    },
    {
     "name": "stdout",
     "output_type": "stream",
     "text": [
      "✅ Saved model and SHAP plot for SR-HSE\n",
      "🚀 Processing SR-MMP (XGBoost)\n"
     ]
    },
    {
     "name": "stderr",
     "output_type": "stream",
     "text": [
      "[00:59:51] WARNING: /Users/runner/work/xgboost/xgboost/src/learner.cc:740: \n",
      "Parameters: { \"use_label_encoder\" } are not used.\n",
      "\n"
     ]
    },
    {
     "name": "stdout",
     "output_type": "stream",
     "text": [
      "✅ Saved model and SHAP plot for SR-MMP\n",
      "🚀 Processing SR-p53 (XGBoost)\n"
     ]
    },
    {
     "name": "stderr",
     "output_type": "stream",
     "text": [
      "[00:59:52] WARNING: /Users/runner/work/xgboost/xgboost/src/learner.cc:740: \n",
      "Parameters: { \"use_label_encoder\" } are not used.\n",
      "\n"
     ]
    },
    {
     "name": "stdout",
     "output_type": "stream",
     "text": [
      "✅ Saved model and SHAP plot for SR-p53\n"
     ]
    }
   ],
   "source": [
    "for target in targets:\n",
    "    print(f\"🚀 Processing {target} (XGBoost)\")\n",
    "\n",
    "    y = df[target]\n",
    "    mask = y.notna()\n",
    "    X_clean = X[mask]\n",
    "    y_clean = y[mask].values\n",
    "\n",
    "    if len(np.unique(y_clean)) < 2:\n",
    "        print(f\"⚠️ Skipping {target} — only one class present.\")\n",
    "        continue\n",
    "\n",
    "    X_train, X_test, y_train, y_test = train_test_split(\n",
    "        X_clean, y_clean, test_size=0.2, stratify=y_clean, random_state=42\n",
    "    )\n",
    "\n",
    "    # Train XGBoost\n",
    "    model = XGBClassifier(\n",
    "        n_estimators=100,\n",
    "        max_depth=6,\n",
    "        use_label_encoder=False,\n",
    "        eval_metric='logloss',\n",
    "        random_state=42\n",
    "    )\n",
    "    model.fit(X_train, y_train)\n",
    "\n",
    "    # Save the model\n",
    "    joblib.dump(model, f\"final_models/{target}_XGBoost.joblib\")\n",
    "\n",
    "    # SHAP summary plot\n",
    "    explainer = shap.TreeExplainer(model)\n",
    "    shap_values = explainer.shap_values(X_test)\n",
    "\n",
    "    plt.figure()\n",
    "    shap.summary_plot(shap_values, X_test, plot_type=\"bar\", max_display=20, show=False)\n",
    "    plt.title(f\"{target} - SHAP Summary (XGBoost)\")\n",
    "    plt.savefig(f\"shap_summaries/xgb/{target}_XGBoost_shap_summary.png\", bbox_inches='tight')\n",
    "    plt.close()\n",
    "    print(f\"✅ Saved model and SHAP plot for {target}\")\n"
   ]
  },
  {
   "cell_type": "markdown",
   "id": "9803ac8d",
   "metadata": {},
   "source": [
    "The SHAP summary plots identify the top fingerprint features that influence the model’s prediction of toxicity. Each bar represents an ECFP4 bit (hashed molecular substructure) ranked by its average absolute SHAP value across all test samples. Features with longer bars have stronger contributions to the model’s decisions. While the fingerprint bits are not directly interpretable, their importance suggests consistent structure-activity relationships captured by the model."
   ]
  },
  {
   "cell_type": "code",
   "execution_count": null,
   "id": "0e8d92b7",
   "metadata": {},
   "outputs": [],
   "source": []
  }
 ],
 "metadata": {
  "kernelspec": {
   "display_name": "Python (tox21-env)",
   "language": "python",
   "name": "tox21-env"
  },
  "language_info": {
   "codemirror_mode": {
    "name": "ipython",
    "version": 3
   },
   "file_extension": ".py",
   "mimetype": "text/x-python",
   "name": "python",
   "nbconvert_exporter": "python",
   "pygments_lexer": "ipython3",
   "version": "3.8.17"
  }
 },
 "nbformat": 4,
 "nbformat_minor": 5
}
