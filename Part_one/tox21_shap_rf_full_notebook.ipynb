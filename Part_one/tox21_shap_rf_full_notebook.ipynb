{
 "cells": [
  {
   "cell_type": "markdown",
   "id": "70ced62f",
   "metadata": {},
   "source": [
    "# 🔍 SHAP Interpretation for Tox21 Models (Random Forest)\n",
    "\n",
    "This notebook generates SHAP summary plots for each of the 12 Tox21 toxicity targets using pre-trained Random Forest models.\n",
    "\n",
    "Make sure that:\n",
    "- Your model files are saved in the `final_models/` directory\n",
    "- Your ECFP4 features are stored in the variable `X`\n",
    "- Your target labels are part of the `df` DataFrame"
   ]
  },
  {
   "cell_type": "code",
   "execution_count": 7,
   "id": "5aa85ec4",
   "metadata": {},
   "outputs": [],
   "source": [
    "import shap\n",
    "import joblib\n",
    "import numpy as np\n",
    "import pandas as pd\n",
    "import matplotlib.pyplot as plt\n",
    "import os\n",
    "from sklearn.model_selection import train_test_split\n",
    "from sklearn.ensemble import RandomForestClassifier\n",
    "\n",
    "# Create necessary directories\n",
    "os.makedirs(\"final_models\", exist_ok=True)\n",
    "os.makedirs(\"shap_summaries\", exist_ok=True)\n",
    "os.makedirs(\"shap_summaries/rf\", exist_ok=True)\n",
    "\n",
    "# Load your dataset\n",
    "df = pd.read_csv(\"data/tox21.csv\")\n",
    "\n",
    "# ECFP4 feature matrix must be defined as X\n",
    "# Example: X = np.array([...]) generated from RDKit\n"
   ]
  },
  {
   "cell_type": "code",
   "execution_count": 10,
   "id": "5dc5e864",
   "metadata": {},
   "outputs": [
    {
     "name": "stderr",
     "output_type": "stream",
     "text": [
      "[00:51:32] WARNING: not removing hydrogen atom without neighbors\n"
     ]
    }
   ],
   "source": [
    "from rdkit import Chem\n",
    "from rdkit.Chem.rdFingerprintGenerator import GetMorganGenerator\n",
    "import numpy as np\n",
    "\n",
    "# Generate ECFP4 fingerprints (radius=2, 1024 bits)\n",
    "morgan_gen = GetMorganGenerator(radius=2, fpSize=1024)\n",
    "\n",
    "def smiles_to_ecfp(smiles):\n",
    "    mol = Chem.MolFromSmiles(smiles)\n",
    "    if mol is None:\n",
    "        return np.zeros((morgan_gen.GetNumBits(),))\n",
    "    return np.array(morgan_gen.GetFingerprint(mol))\n",
    "\n",
    "# Apply to all rows\n",
    "X = np.array([smiles_to_ecfp(s) for s in df['smiles']])\n"
   ]
  },
  {
   "cell_type": "code",
   "execution_count": 11,
   "id": "2f7dc108",
   "metadata": {},
   "outputs": [],
   "source": [
    "# Target List\n",
    "\n",
    "targets = [\n",
    "    'NR-AR', 'NR-AR-LBD', 'NR-AhR', 'NR-Aromatase', 'NR-ER', \n",
    "    'NR-ER-LBD', 'NR-PPAR-gamma', 'SR-ARE', 'SR-ATAD5', \n",
    "    'SR-HSE', 'SR-MMP', 'SR-p53'\n",
    "]\n"
   ]
  },
  {
   "cell_type": "code",
   "execution_count": 12,
   "id": "a20f9395",
   "metadata": {},
   "outputs": [
    {
     "name": "stdout",
     "output_type": "stream",
     "text": [
      "🚀 Processing NR-AR (Random Forest)\n",
      "✅ Saved model and SHAP plot for NR-AR\n",
      "🚀 Processing NR-AR-LBD (Random Forest)\n",
      "✅ Saved model and SHAP plot for NR-AR-LBD\n",
      "🚀 Processing NR-AhR (Random Forest)\n",
      "✅ Saved model and SHAP plot for NR-AhR\n",
      "🚀 Processing NR-Aromatase (Random Forest)\n",
      "✅ Saved model and SHAP plot for NR-Aromatase\n",
      "🚀 Processing NR-ER (Random Forest)\n",
      "✅ Saved model and SHAP plot for NR-ER\n",
      "🚀 Processing NR-ER-LBD (Random Forest)\n",
      "✅ Saved model and SHAP plot for NR-ER-LBD\n",
      "🚀 Processing NR-PPAR-gamma (Random Forest)\n",
      "✅ Saved model and SHAP plot for NR-PPAR-gamma\n",
      "🚀 Processing SR-ARE (Random Forest)\n",
      "✅ Saved model and SHAP plot for SR-ARE\n",
      "🚀 Processing SR-ATAD5 (Random Forest)\n",
      "✅ Saved model and SHAP plot for SR-ATAD5\n",
      "🚀 Processing SR-HSE (Random Forest)\n",
      "✅ Saved model and SHAP plot for SR-HSE\n",
      "🚀 Processing SR-MMP (Random Forest)\n",
      "✅ Saved model and SHAP plot for SR-MMP\n",
      "🚀 Processing SR-p53 (Random Forest)\n",
      "✅ Saved model and SHAP plot for SR-p53\n"
     ]
    }
   ],
   "source": [
    "for target in targets:\n",
    "    print(f\"🚀 Processing {target} (Random Forest)\")\n",
    "\n",
    "    y = df[target]\n",
    "    mask = y.notna()\n",
    "    X_clean = X[mask]\n",
    "    y_clean = y[mask].values\n",
    "\n",
    "    if len(np.unique(y_clean)) < 2:\n",
    "        print(f\"⚠️ Skipping {target} — only one class present.\")\n",
    "        continue\n",
    "\n",
    "    X_train, X_test, y_train, y_test = train_test_split(\n",
    "        X_clean, y_clean, test_size=0.2, stratify=y_clean, random_state=42\n",
    "    )\n",
    "\n",
    "    # Train Random Forest\n",
    "    model = RandomForestClassifier(\n",
    "        n_estimators=100,\n",
    "        max_depth=10,\n",
    "        class_weight='balanced',\n",
    "        random_state=42\n",
    "    )\n",
    "    model.fit(X_train, y_train)\n",
    "\n",
    "    # Save the model\n",
    "    joblib.dump(model, f\"final_models/{target}_Random_Forest.joblib\")\n",
    "\n",
    "    # SHAP summary plot\n",
    "    explainer = shap.TreeExplainer(model)\n",
    "    shap_values = explainer.shap_values(X_test)\n",
    "\n",
    "    plt.figure()\n",
    "    shap.summary_plot(shap_values[1], X_test, plot_type=\"bar\", max_display=20, show=False)\n",
    "    plt.title(f\"{target} - SHAP Summary (Random Forest)\")\n",
    "    plt.savefig(f\"shap_summaries/rf/{target}_Random_Forest_shap_summary.png\", bbox_inches='tight')\n",
    "    plt.close()\n",
    "    print(f\"✅ Saved model and SHAP plot for {target}\")\n"
   ]
  },
  {
   "cell_type": "markdown",
   "id": "61969619",
   "metadata": {},
   "source": [
    "The SHAP summary plots identify the top fingerprint features that influence the model’s prediction of toxicity. Each bar represents an ECFP4 bit (hashed molecular substructure) ranked by its average absolute SHAP value across all test samples. Features with longer bars have stronger contributions to the model’s decisions. While the fingerprint bits are not directly interpretable, their importance suggests consistent structure-activity relationships captured by the model."
   ]
  },
  {
   "cell_type": "code",
   "execution_count": null,
   "id": "9e735b29",
   "metadata": {},
   "outputs": [],
   "source": []
  }
 ],
 "metadata": {
  "kernelspec": {
   "display_name": "Python (tox21-env)",
   "language": "python",
   "name": "tox21-env"
  },
  "language_info": {
   "codemirror_mode": {
    "name": "ipython",
    "version": 3
   },
   "file_extension": ".py",
   "mimetype": "text/x-python",
   "name": "python",
   "nbconvert_exporter": "python",
   "pygments_lexer": "ipython3",
   "version": "3.8.17"
  }
 },
 "nbformat": 4,
 "nbformat_minor": 5
}
